{
 "cells": [
  {
   "cell_type": "code",
   "execution_count": 1,
   "metadata": {},
   "outputs": [
    {
     "name": "stdout",
     "output_type": "stream",
     "text": [
      "enter a 1st value:6\n",
      "enter a 2nd value:5\n",
      "11\n"
     ]
    }
   ],
   "source": [
    "#ADD TWO VALUES\n",
    "a=int(input(\"enter a 1st value:\"))\n",
    "b=int(input(\"enter a 2nd value:\"))\n",
    "c=a+b\n",
    "print(c)"
   ]
  },
  {
   "cell_type": "markdown",
   "metadata": {},
   "source": [
    "# python version that used\n",
    "import sys\n",
    "print(sys.version_info)\n",
    "print(\"python version that used:\",sys.version)"
   ]
  },
  {
   "cell_type": "code",
   "execution_count": 3,
   "metadata": {},
   "outputs": [
    {
     "name": "stdout",
     "output_type": "stream",
     "text": [
      "sys.version_info(major=3, minor=7, micro=1, releaselevel='final', serial=0)\n",
      "python version that used: 3.7.1 (default, Dec 10 2018, 22:54:23) [MSC v.1915 64 bit (AMD64)]\n"
     ]
    }
   ],
   "source": [
    "# PYTHON VERSION THAT USED\n",
    "import sys\n",
    "print (sys.version_info)\n",
    "print(\"python version that used:\",sys.version)"
   ]
  },
  {
   "cell_type": "code",
   "execution_count": 4,
   "metadata": {},
   "outputs": [
    {
     "name": "stdout",
     "output_type": "stream",
     "text": [
      "current date and time is :  2019/11/01 22:23:24\n"
     ]
    }
   ],
   "source": [
    "# current date and time\n",
    "import datetime\n",
    "now=datetime.datetime.now()\n",
    "print(\"current date and time is : \",now.strftime(\"%Y/%m/%d %H:%M:%S\"))"
   ]
  },
  {
   "cell_type": "code",
   "execution_count": 5,
   "metadata": {},
   "outputs": [
    {
     "name": "stdout",
     "output_type": "stream",
     "text": [
      "enter a value of radius in a meter:2\n",
      "the Area of a circle that compute is: 12.566370614359172\n",
      "Area of a circle with rAdius is\t2.0 becomes 12.566370614359172m\n"
     ]
    }
   ],
   "source": [
    "# compute area of a circle\n",
    "from math import pi\n",
    "r=float(input(\"enter a value of radius in a meter:\"))\n",
    "A=2*pi*r\n",
    "print(\"the Area of a circle that compute is:\",float(A))\n",
    "print(\"Area of a circle with rAdius is\"+\"\\t\"+str(r)+\" becomes \"+str(A)+\"m\")"
   ]
  },
  {
   "cell_type": "code",
   "execution_count": 7,
   "metadata": {},
   "outputs": [
    {
     "name": "stdout",
     "output_type": "stream",
     "text": [
      "enter you first name : hira\n",
      "enter you first name : fatima\n",
      "fatima hira\n"
     ]
    }
   ],
   "source": [
    "# INPUT NAME AND PRINT IT REVERSE FORM\n",
    "first_name=str(input(\"enter you first name : \"))\n",
    "last_name=str(input(\"enter you first name : \"))\n",
    "print(last_name+\" \"+first_name)"
   ]
  },
  {
   "cell_type": "code",
   "execution_count": 11,
   "metadata": {},
   "outputs": [
    {
     "name": "stdout",
     "output_type": "stream",
     "text": [
      "Twinkle,twinkle,little star, \n",
      "\t how are wonder what u are! \n",
      "\t\t up above the world so high, \n",
      "\t\t like a diamond in the sky. \n",
      " Twinkle twinkle little star, \n",
      "\t How i wonder what you are!\n"
     ]
    }
   ],
   "source": [
    "# PRINT TWINKLE TWINKLE LITTLE STAR\n",
    "print(\"Twinkle,twinkle,little star,\",\"\\n\\t how are wonder what u are!\",\"\\n\\t\\t up above the world so high,\",\"\\n\\t\\t like a diamond in the sky.\",\"\\n Twinkle twinkle little star,\",\"\\n\\t How i wonder what you are!\")"
   ]
  },
  {
   "cell_type": "code",
   "execution_count": null,
   "metadata": {},
   "outputs": [],
   "source": []
  }
 ],
 "metadata": {
  "kernelspec": {
   "display_name": "Python 3",
   "language": "python",
   "name": "python3"
  },
  "language_info": {
   "codemirror_mode": {
    "name": "ipython",
    "version": 3
   },
   "file_extension": ".py",
   "mimetype": "text/x-python",
   "name": "python",
   "nbconvert_exporter": "python",
   "pygments_lexer": "ipython3",
   "version": "3.7.1"
  }
 },
 "nbformat": 4,
 "nbformat_minor": 2
}
